{
 "cells": [
  {
   "cell_type": "markdown",
   "id": "75c104b1",
   "metadata": {},
   "source": [
    "# Simple Satellite Image Downloader\n",
    "\n",
    "## This notebook provides a simple interface for batch downloading imagery to your computer\n",
    "\n",
    "* Run the first cell and choose an output folder off your choice from the pop-up window (disable pop up blocker, just for a second, I'm sorry)\n",
    "\n",
    "* Name your site, choose an available satellite (will be updating) and enter in a start and end date\n",
    "\n",
    "* Using an Ipyleaflet map, draw a rectange of your region of interest.\n",
    "\n",
    "* Then see how many images are available for the chosen satellite and fire away!\n",
    "\n"
   ]
  },
  {
   "cell_type": "code",
   "execution_count": 1,
   "id": "4e8d6e08",
   "metadata": {},
   "outputs": [],
   "source": [
    "from coast_corr import coast_corr, SDS_tools, SDS_preprocess\n",
    "import warnings\n",
    "#warnings.filterwarnings(\"ignore\")\n",
    "import ipywidgets\n",
    "import os\n",
    "import osmnx as ox\n",
    "from tkinter import filedialog\n",
    "from tkinter import *\n",
    "from ipyleaflet import (\n",
    "    Map,\n",
    "    Marker,\n",
    "    TileLayer, ImageOverlay,\n",
    "    Polyline, Polygon, Rectangle, Circle, CircleMarker,\n",
    "    GeoJSON,\n",
    "    DrawControl, basemaps, basemap_to_tiles\n",
    ")"
   ]
  },
  {
   "cell_type": "code",
   "execution_count": 2,
   "id": "866d1668",
   "metadata": {
    "scrolled": true
   },
   "outputs": [
    {
     "data": {
      "application/vnd.jupyter.widget-view+json": {
       "model_id": "b8d7bcc32ab44b489c65ed17d1f2abe3",
       "version_major": 2,
       "version_minor": 0
      },
      "text/plain": [
       "Text(value='ROI Name', description='ROI Name:', placeholder='Type something')"
      ]
     },
     "metadata": {},
     "output_type": "display_data"
    },
    {
     "data": {
      "application/vnd.jupyter.widget-view+json": {
       "model_id": "0865f51dab3d40afb840f419d1735dc7",
       "version_major": 2,
       "version_minor": 0
      },
      "text/plain": [
       "Checkbox(value=False, description='Check for JPEG files', indent=False)"
      ]
     },
     "metadata": {},
     "output_type": "display_data"
    },
    {
     "data": {
      "application/vnd.jupyter.widget-view+json": {
       "model_id": "1898b0ac82ac490890276cd2f79098c9",
       "version_major": 2,
       "version_minor": 0
      },
      "text/plain": [
       "Select(description='Satellite:', options=('Sentinel 2', 'Landsat 5', 'Landsat 7', 'Landsat 8', 'MODIS Aqua', '…"
      ]
     },
     "metadata": {},
     "output_type": "display_data"
    },
    {
     "data": {
      "application/vnd.jupyter.widget-view+json": {
       "model_id": "7829a8e54b9d46f1a74661415dbbfc35",
       "version_major": 2,
       "version_minor": 0
      },
      "text/plain": [
       "Text(value='yyyy-mm-dd', description='Start Date:', placeholder='Type something')"
      ]
     },
     "metadata": {},
     "output_type": "display_data"
    },
    {
     "data": {
      "application/vnd.jupyter.widget-view+json": {
       "model_id": "d07160c017744807bf6fd29c3fdc1953",
       "version_major": 2,
       "version_minor": 0
      },
      "text/plain": [
       "Text(value='yyyy-mm-dd', description='End Date:', placeholder='Type something')"
      ]
     },
     "metadata": {},
     "output_type": "display_data"
    }
   ],
   "source": [
    "outfolder = os.getcwd()+'/Data/'\n",
    "\n",
    "\n",
    "destination0=ipywidgets.Text(\n",
    "    value='ROI Name',\n",
    "    placeholder='Type something',\n",
    "    description='ROI Name:',\n",
    "    disabled=False\n",
    ")\n",
    "display(destination0)\n",
    "\n",
    "jpg=ipywidgets.Checkbox(\n",
    "    value=False,\n",
    "    description='Check for JPEG files',\n",
    "    disabled=False,\n",
    "    indent=False\n",
    ")\n",
    "\n",
    "display(jpg)\n",
    "\n",
    "\n",
    "\n",
    "sat=ipywidgets.Select(\n",
    "    options=['Sentinel 2', 'Landsat 5', 'Landsat 7', 'Landsat 8','MODIS Aqua','MODIS Terra'],\n",
    "    value='Sentinel 2',\n",
    "    # rows=10,\n",
    "    description='Satellite:',\n",
    "    disabled=False\n",
    ")\n",
    "\n",
    "display(sat)\n",
    "\n",
    "\n",
    "y0=ipywidgets.Text(\n",
    "    value='yyyy-mm-dd',\n",
    "    placeholder='Type something',\n",
    "    description='Start Date:',\n",
    "    disabled=False\n",
    ")\n",
    "\n",
    "display(y0)\n",
    "\n",
    "y1=ipywidgets.Text(\n",
    "    value='yyyy-mm-dd',\n",
    "    placeholder='Type something',\n",
    "    description='End Date:',\n",
    "    disabled=False\n",
    ")\n",
    "\n",
    "display(y1)\n"
   ]
  },
  {
   "cell_type": "markdown",
   "id": "4b73aa99",
   "metadata": {},
   "source": [
    "## Draw your ROI. For finer resolution satellites draw a smaller area (<~10000 hectares). "
   ]
  },
  {
   "cell_type": "code",
   "execution_count": 3,
   "id": "d84037e0",
   "metadata": {
    "scrolled": true
   },
   "outputs": [
    {
     "data": {
      "application/vnd.jupyter.widget-view+json": {
       "model_id": "eb9ee9c0d73542bf9b593cad28f900ac",
       "version_major": 2,
       "version_minor": 0
      },
      "text/plain": [
       "Map(center=[42, -128.85], controls=(ZoomControl(options=['position', 'zoom_in_text', 'zoom_in_title', 'zoom_ou…"
      ]
     },
     "metadata": {},
     "output_type": "display_data"
    },
    {
     "name": "stdout",
     "output_type": "stream",
     "text": [
      "created\n",
      "{'type': 'Feature', 'properties': {'style': {'stroke': True, 'color': '#0000FF', 'weight': 4, 'opacity': 0.5, 'fill': True, 'fillColor': None, 'fillOpacity': 0.2, 'clickable': True}}, 'geometry': {'type': 'Polygon', 'coordinates': [[[-124.785733, 41.087028], [-124.785733, 41.86351], [-123.810751, 41.86351], [-123.810751, 41.087028], [-124.785733, 41.087028]]]}}\n",
      "deleted\n",
      "{'type': 'Feature', 'properties': {'style': {'pane': 'overlayPane', 'attribution': None, 'bubblingMouseEvents': True, 'fill': True, 'smoothFactor': 1, 'noClip': False, 'stroke': True, 'color': '#0000FF', 'weight': 4, 'opacity': 0.5, 'lineCap': 'round', 'lineJoin': 'round', 'dashArray': None, 'dashOffset': None, 'fillColor': None, 'fillOpacity': 0.2, 'fillRule': 'evenodd', 'interactive': True, 'clickable': True}}, 'geometry': {'type': 'Polygon', 'coordinates': [[[-124.785733, 41.087028], [-124.785733, 41.86351], [-123.810751, 41.86351], [-123.810751, 41.087028], [-124.785733, 41.087028]]]}}\n",
      "created\n",
      "{'type': 'Feature', 'properties': {'style': {'stroke': True, 'color': '#0000FF', 'weight': 4, 'opacity': 0.5, 'fill': True, 'fillColor': None, 'fillOpacity': 0.2, 'clickable': True}}, 'geometry': {'type': 'Polygon', 'coordinates': [[[-124.653781, 41.847144], [-124.653781, 41.847144], [-124.63912, 41.847144], [-124.63912, 41.847144], [-124.653781, 41.847144]]]}}\n",
      "deleted\n",
      "{'type': 'Feature', 'properties': {'style': {'pane': 'overlayPane', 'attribution': None, 'bubblingMouseEvents': True, 'fill': True, 'smoothFactor': 1, 'noClip': False, 'stroke': True, 'color': '#0000FF', 'weight': 4, 'opacity': 0.5, 'lineCap': 'round', 'lineJoin': 'round', 'dashArray': None, 'dashOffset': None, 'fillColor': None, 'fillOpacity': 0.2, 'fillRule': 'evenodd', 'interactive': True, 'clickable': True}}, 'geometry': {'type': 'Polygon', 'coordinates': [[[-124.653781, 41.847144], [-124.653781, 41.847144], [-124.63912, 41.847144], [-124.63912, 41.847144], [-124.653781, 41.847144]]]}}\n",
      "created\n",
      "{'type': 'Feature', 'properties': {'style': {'stroke': True, 'color': '#0000FF', 'weight': 4, 'opacity': 0.5, 'fill': True, 'fillColor': None, 'fillOpacity': 0.2, 'clickable': True}}, 'geometry': {'type': 'Polygon', 'coordinates': [[[-124.690435, 41.085648], [-124.690435, 41.836231], [-124.019676, 41.836231], [-124.019676, 41.085648], [-124.690435, 41.085648]]]}}\n"
     ]
    }
   ],
   "source": [
    "\n",
    "watercolor = basemap_to_tiles(basemaps.Esri.WorldTopoMap, crs='espg:4326')\n",
    "\n",
    "m = Map(layers=(watercolor, ), center=(42,-128.85), zoom=4)\n",
    "\n",
    "\n",
    "dc = DrawControl(\n",
    "                 rectangle={'shapeOptions': {'color': '#0000FF'}, \"primary_length_unit\": 'kilometers'},\n",
    "                 )\n",
    "def handle_draw(target, action, geo_json):\n",
    "    print(action)\n",
    "    print(geo_json)\n",
    "\n",
    "dc.on_draw(handle_draw)\n",
    "m.add_control(dc)\n",
    "m\n",
    "\n"
   ]
  },
  {
   "cell_type": "markdown",
   "id": "b8b87957",
   "metadata": {},
   "source": [
    "## Check to see what's available"
   ]
  },
  {
   "cell_type": "code",
   "execution_count": 4,
   "id": "4a96cfad",
   "metadata": {
    "scrolled": true
   },
   "outputs": [
    {
     "name": "stdout",
     "output_type": "stream",
     "text": [
      "Images available between 2002-01-01 and 2012-01-01:\n",
      "- In Landsat Tier 1 & Sentinel-2 Level-1C:\n",
      "  MYD: 3458 images\n",
      "  Total: 3458 images\n",
      "Images available between 2012-01-01 and 2022-01-01:\n",
      "- In Landsat Tier 1 & Sentinel-2 Level-1C:\n",
      "  MYD: 3653 images\n",
      "  Total: 3653 images\n"
     ]
    }
   ],
   "source": [
    "polygon= [(dc.last_draw).get(\"geometry\").get(\"coordinates\")[0]]\n",
    "\n",
    "# it's recommended to convert the polygon to the smallest rectangle (sides parallel to coordinate axes)       \n",
    "polygon = SDS_tools.smallest_rectangle(polygon)\n",
    "\n",
    "# date range\n",
    "if sat.value in ['Sentinel 2','Landsat 5','Landsat 7','Landsat 8']:\n",
    "    dates = [y0.value, y1.value]\n",
    "if sat.value in ['MODIS Terra','MODIS Aqua']:\n",
    "    mon=y1.value.split(\"-\")[1]\n",
    "    day=y1.value.split(\"-\")[2]\n",
    "    yr=str(int(round(((int(y0.value.split(\"-\")[0])+int(y1.value.split(\"-\")[0]))/2),0)))\n",
    "    avg_yr=yr+'-'+mon+'-'+day\n",
    "    avg_yr\n",
    "    dates1 = [y0.value, avg_yr]\n",
    "    dates2 = [avg_yr, y1.value]\n",
    "\n",
    "# satellite missions\n",
    "if sat.value=='Sentinel 2':\n",
    "    satellite='S2'\n",
    "if sat.value=='Landsat 5':\n",
    "    satellite='L5'\n",
    "if sat.value=='Landsat 7':\n",
    "    satellite='L7'\n",
    "if sat.value=='Landsat 8':\n",
    "    satellite='L8'\n",
    "if sat.value=='MODIS Aqua':\n",
    "    satellite='MYD'\n",
    "if sat.value=='MODIS Terra':\n",
    "    satellite='MOD'\n",
    "    \n",
    "sat_list = [satellite]\n",
    "\n",
    "# name of the site\n",
    "sitename = destination0.value\n",
    "\n",
    "# directory where the data will be stored\n",
    "filepath = outfolder\n",
    "# put all the inputs into a dictionary\n",
    "if sat.value in ['Sentinel 2','Landsat 5','Landsat 7','Landsat 8']:\n",
    "    inputs = {'polygon': polygon, 'dates': dates, 'sat_list': sat_list, 'sitename': sitename, 'filepath':filepath}\n",
    "\n",
    "if sat.value in ['MODIS Terra','MODIS Aqua']:\n",
    "    inputs1 = {'polygon': polygon, 'dates': dates1, 'sat_list': sat_list, 'sitename': sitename, 'filepath':filepath}\n",
    "    inputs2 = {'polygon': polygon, 'dates': dates2, 'sat_list': sat_list, 'sitename': sitename, 'filepath':filepath}\n",
    "\n",
    "    \n",
    "    \n",
    "# before downloading the images, check how many images are available for your inputs\n",
    "#SDS_download.check_images_available(inputs);\n",
    "if sat.value in ['MODIS Terra','MODIS Aqua']:\n",
    "    coast_corr.check_images_available(inputs1)\n",
    "    coast_corr.check_images_available(inputs2)\n",
    "    \n",
    "if sat.value in ['Sentinel 2','Landsat 5','Landsat 7','Landsat 8']:\n",
    "    coast_corr.check_images_available(inputs)\n",
    "\n",
    "\n",
    "\n"
   ]
  },
  {
   "cell_type": "code",
   "execution_count": null,
   "id": "08556995",
   "metadata": {},
   "outputs": [
    {
     "name": "stdout",
     "output_type": "stream",
     "text": [
      "Images available between 2002-01-01 and 2012-01-01:\n",
      "- In Landsat Tier 1 & Sentinel-2 Level-1C:\n",
      "  MYD: 3458 images\n",
      "  Total: 3458 images\n",
      "\n",
      "Downloading images:\n",
      "MYD: 3458 images\n",
      "9%"
     ]
    }
   ],
   "source": [
    "import pandas as pd\n",
    "\n",
    "if sat.value in ['MODIS Terra','MODIS Aqua']:\n",
    "    metadata1 = coast_corr.retrieve_images_modis(inputs1)\n",
    "    metadata2 = coast_corr.retrieve_images_modis(inputs2)\n",
    "\n",
    "if sat.value in ['Sentinel 2','Landsat 5','Landsat 7','Landsat 8']:\n",
    "    metadata = coast_corr.retrieve_images(inputs)\n",
    "    \n",
    "    \n",
    "\n",
    "\n",
    "if sat.value in ['Sentinel 2','Landsat 5','Landsat 7','Landsat 8']:\n",
    "    if jpg == 'True':\n",
    "\n",
    "        metadata = coast_corr.get_metadata(inputs) \n",
    "\n",
    "        settings = { \n",
    "            # general parameters:\n",
    "            'cloud_thresh': 0.5,        # threshold on maximum cloud cover\n",
    "            'output_epsg': 227,        # epsg code of spatial reference system desired for the output   \n",
    "            # quality control:\n",
    "            'check_detection': False,    # if True, shows each shoreline detection to the user for validation\n",
    "            'adjust_detection': False,  # if True, allows user to adjust the postion of each shoreline by changing the threhold\n",
    "            'save_figure': False,        # if True, saves a figure showing the mapped shoreline for each image\n",
    "            # [ONLY FOR ADVANCED USERS] shoreline detection parameters:\n",
    "            'min_swash_area': 3,     # minimum area (in metres^2) for an object to be labelled as swash\n",
    "            'buffer_size': 1,         # radius (in metres) for buffer around swash pixels considered in the swash detection\n",
    "            'min_length_sl': 200,       # minimum length (in metres) of shoreline perimeter to be valid\n",
    "            'cloud_mask_issue': False,  # switch this parameter to True if sand pixels are masked (in black) on many images  \n",
    "            'sand_color': 'default',    # 'default', 'dark' (for grey/black sand beaches) or 'bright' (for white sand beaches)\n",
    "            # add the inputs defined previously\n",
    "            'inputs': inputs\n",
    "        }\n",
    "\n",
    "        SDS_preprocess.save_jpg(metadata, settings)\n",
    "        \n",
    "if sat.value in ['MODIS Terra','MODIS Aqua']:\n",
    "        if jpg == 'True':\n",
    "\n",
    "            metadata = coast_corr.get_metadata(inputs1) \n",
    "\n",
    "            settings = { \n",
    "                # general parameters:\n",
    "                'cloud_thresh': 0.5,        # threshold on maximum cloud cover\n",
    "                'output_epsg': 227,        # epsg code of spatial reference system desired for the output   \n",
    "                # quality control:\n",
    "                'check_detection': False,    # if True, shows each shoreline detection to the user for validation\n",
    "                'adjust_detection': False,  # if True, allows user to adjust the postion of each shoreline by changing the threhold\n",
    "                'save_figure': False,        # if True, saves a figure showing the mapped shoreline for each image\n",
    "                # [ONLY FOR ADVANCED USERS] shoreline detection parameters:\n",
    "                'min_swash_area': 3,     # minimum area (in metres^2) for an object to be labelled as swash\n",
    "                'buffer_size': 1,         # radius (in metres) for buffer around swash pixels considered in the swash detection\n",
    "                'min_length_sl': 200,       # minimum length (in metres) of shoreline perimeter to be valid\n",
    "                'cloud_mask_issue': False,  # switch this parameter to True if sand pixels are masked (in black) on many images  \n",
    "                'sand_color': 'default',    # 'default', 'dark' (for grey/black sand beaches) or 'bright' (for white sand beaches)\n",
    "                # add the inputs defined previously\n",
    "                'inputs': inputs\n",
    "            }\n",
    "\n",
    "            SDS_preprocess.save_jpg(metadata, settings)\n",
    "\n",
    "            metadata = coast_corr.get_metadata(inputs2) \n",
    "\n",
    "            settings = { \n",
    "                # general parameters:\n",
    "                'cloud_thresh': 0.5,        # threshold on maximum cloud cover\n",
    "                'output_epsg': 227,        # epsg code of spatial reference system desired for the output   \n",
    "                # quality control:\n",
    "                'check_detection': False,    # if True, shows each shoreline detection to the user for validation\n",
    "                'adjust_detection': False,  # if True, allows user to adjust the postion of each shoreline by changing the threhold\n",
    "                'save_figure': False,        # if True, saves a figure showing the mapped shoreline for each image\n",
    "                # [ONLY FOR ADVANCED USERS] shoreline detection parameters:\n",
    "                'min_swash_area': 3,     # minimum area (in metres^2) for an object to be labelled as swash\n",
    "                'buffer_size': 1,         # radius (in metres) for buffer around swash pixels considered in the swash detection\n",
    "                'min_length_sl': 200,       # minimum length (in metres) of shoreline perimeter to be valid\n",
    "                'cloud_mask_issue': False,  # switch this parameter to True if sand pixels are masked (in black) on many images  \n",
    "                'sand_color': 'default',    # 'default', 'dark' (for grey/black sand beaches) or 'bright' (for white sand beaches)\n",
    "                # add the inputs defined previously\n",
    "                'inputs': inputs\n",
    "            }\n",
    "\n",
    "            SDS_preprocess.save_jpg(metadata, settings)\n"
   ]
  }
 ],
 "metadata": {
  "kernelspec": {
   "display_name": "Python 3 (ipykernel)",
   "language": "python",
   "name": "python3"
  },
  "language_info": {
   "codemirror_mode": {
    "name": "ipython",
    "version": 3
   },
   "file_extension": ".py",
   "mimetype": "text/x-python",
   "name": "python",
   "nbconvert_exporter": "python",
   "pygments_lexer": "ipython3",
   "version": "3.7.11"
  }
 },
 "nbformat": 4,
 "nbformat_minor": 5
}
