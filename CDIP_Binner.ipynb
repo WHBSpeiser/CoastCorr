{
 "cells": [
  {
   "cell_type": "markdown",
   "metadata": {},
   "source": [
    "## Import CDIP Sites"
   ]
  },
  {
   "cell_type": "code",
   "execution_count": 2,
   "metadata": {
    "scrolled": true
   },
   "outputs": [],
   "source": [
    "import pandas as pd\n",
    "import geopandas\n",
    "import numpy as np\n",
    "import geopy\n",
    "import geopy.distance\n",
    "from shapely.geometry import Polygon\n",
    "\n",
    "\n",
    "df = pd.read_csv('.../CDIP_Transects.csv')\n",
    "\n",
    "\n"
   ]
  },
  {
   "cell_type": "code",
   "execution_count": 3,
   "metadata": {},
   "outputs": [],
   "source": [
    "distance_onshore=.1\n",
    "distance_offshore=5\n"
   ]
  },
  {
   "cell_type": "code",
   "execution_count": 4,
   "metadata": {
    "scrolled": false
   },
   "outputs": [
    {
     "name": "stderr",
     "output_type": "stream",
     "text": [
      "/home/williamspeiser/anaconda3/lib/python3.7/site-packages/pandas/core/indexing.py:670: SettingWithCopyWarning: \n",
      "A value is trying to be set on a copy of a slice from a DataFrame\n",
      "\n",
      "See the caveats in the documentation: https://pandas.pydata.org/pandas-docs/stable/user_guide/indexing.html#returning-a-view-versus-a-copy\n",
      "  self._setitem_with_indexer(indexer, value)\n"
     ]
    }
   ],
   "source": [
    "i=1 \n",
    "\n",
    "\n",
    "df['upper_beach_bin_point']=np.nan\n",
    "df['lower_beach_bin_point']=np.nan\n",
    "df['upper_ocean_bin_point']=np.nan\n",
    "df['lower_ocean_bin_point']=np.nan\n",
    "df['site_bounds']=np.nan\n",
    "for i in range(1, len(df)-1):\n",
    "    pt_lat=df['Lat_BackBeach'].iloc[i]\n",
    "    pt_lon=df['Lon_BackBeach'].iloc[i]\n",
    "    beachpt_lat_upper=df['Lat_BackBeach'].iloc[i+1]\n",
    "    beachpt_lon_upper=df['Lon_BackBeach'].iloc[i+1]\n",
    "    beachpt_lat_lower=df['Lat_BackBeach'].iloc[i-1]\n",
    "    beachpt_lon_lower=df['Lon_BackBeach'].iloc[i-1]\n",
    "\n",
    "\n",
    "    pt_angle=df['ShoreNormal'].iloc[i]\n",
    "    upper_angle=df['ShoreNormal'].iloc[i+1]\n",
    "    lower_angle=df['ShoreNormal'].iloc[i-1]\n",
    "\n",
    "    upper_bin_lat=(pt_lat+beachpt_lat_upper)/2\n",
    "    upper_bin_lon=(pt_lon+beachpt_lon_upper)/2\n",
    "    lower_bin_lat=(pt_lat+beachpt_lat_lower)/2\n",
    "    lower_bin_lon=(pt_lon+beachpt_lon_lower)/2\n",
    "    upper_normal=(pt_angle+upper_angle)/2\n",
    "    lower_normal=(pt_angle+lower_angle)/2\n",
    "    \n",
    "    \n",
    "    #upper beach bin point\n",
    "    upper_start = geopy.Point(upper_bin_lat, upper_bin_lon)\n",
    "    d = geopy.distance.distance(kilometers=(-1*distance_onshore))\n",
    "    upper_beachbound = d.destination(point=upper_start, bearing=upper_angle).format_decimal()\n",
    "    df['upper_beach_bin_point'].iloc[i]=upper_beachbound\n",
    "\n",
    "    \n",
    "    #lower beach bin point\n",
    "    lower_start = geopy.Point(lower_bin_lat, lower_bin_lon)\n",
    "    d = geopy.distance.distance(kilometers=(-1*distance_onshore))\n",
    "    lower_beachbound = d.destination(point=lower_start, bearing=lower_angle).format_decimal()\n",
    "    df['lower_beach_bin_point'].iloc[i]=lower_beachbound\n",
    "    \n",
    "    #upper ocean bin point\n",
    "    upper_start = geopy.Point(upper_bin_lat, upper_bin_lon)\n",
    "    d = geopy.distance.distance(kilometers=(distance_offshore))\n",
    "    upper_oceanbound = d.destination(point=upper_start, bearing=upper_angle).format_decimal()\n",
    "    df['upper_ocean_bin_point'].iloc[i]=upper_oceanbound\n",
    "    \n",
    "    #lower beach bin point\n",
    "    lower_start = geopy.Point(lower_bin_lat, lower_bin_lon)\n",
    "    d = geopy.distance.distance(kilometers=(distance_offshore))\n",
    "    lower_oceanbound = d.destination(point=lower_start, bearing=lower_angle).format_decimal()\n",
    "    df['lower_ocean_bin_point'].iloc[i]=lower_oceanbound\n",
    "    \n",
    "    \n",
    "\n",
    "    lat_point_list = [float(lower_oceanbound.split(',')[0]), \n",
    "                      float(lower_beachbound.split(',')[0]), \n",
    "                      float(upper_beachbound.split(',')[0]), \n",
    "                      float(upper_oceanbound.split(',')[0])]\n",
    "    lon_point_list = [float(lower_oceanbound.split(',')[1].split(' ')[1]),\n",
    "                      float(lower_beachbound.split(',')[1].split(' ')[1]),\n",
    "                      float(upper_beachbound.split(',')[1].split(' ')[1]), \n",
    "                      float(upper_oceanbound.split(',')[1].split(' ')[1])]\n",
    "    \n",
    "\n",
    "    polygon_geom = Polygon(zip(lon_point_list, lat_point_list))\n",
    "    df['site_bounds'].iloc[i]=polygon_geom\n",
    "    #df['site_bounds'].iloc[i]=polygon_geom    \n",
    "    \n",
    "\n",
    "\n"
   ]
  },
  {
   "cell_type": "markdown",
   "metadata": {},
   "source": [
    "## Convert to GeoJson"
   ]
  },
  {
   "cell_type": "code",
   "execution_count": 20,
   "metadata": {},
   "outputs": [],
   "source": [
    "\n",
    "\n",
    "from shapely import wkt\n",
    "\n",
    "df['geometry'] = df['site_bounds'].astype(str)\n",
    "df=df.dropna()\n",
    "df['geometry']=df['geometry'].apply(wkt.loads)\n",
    "df.to_csv('/home/williamspeiser/Desktop/CDIP_Binner/tst.csv')\n",
    "\n",
    "df=pd.read_csv('/home/williamspeiser/Desktop/CDIP_Binner/tst.csv')\n",
    "df['geometry']=df['geometry'].apply(wkt.loads)\n",
    "\n",
    "df_geo = geopandas.GeoDataFrame(df, geometry = 'geometry',crs=4326)\n",
    "\n",
    "df_geo.to_file('.../cdip_bins_surroundingshorenormals.geojson', driver='GeoJSON')"
   ]
  },
  {
   "cell_type": "code",
   "execution_count": null,
   "metadata": {},
   "outputs": [],
   "source": []
  }
 ],
 "metadata": {
  "kernelspec": {
   "display_name": "Python 3",
   "language": "python",
   "name": "python3"
  },
  "language_info": {
   "codemirror_mode": {
    "name": "ipython",
    "version": 3
   },
   "file_extension": ".py",
   "mimetype": "text/x-python",
   "name": "python",
   "nbconvert_exporter": "python",
   "pygments_lexer": "ipython3",
   "version": "3.7.6"
  }
 },
 "nbformat": 4,
 "nbformat_minor": 4
}
