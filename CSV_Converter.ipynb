{
 "cells": [
  {
   "cell_type": "markdown",
   "id": "75c104b1",
   "metadata": {},
   "source": [
    "# CSV_Converter\n",
    "\n",
    "## This notebook converts an imagery dataset to CSV files\n"
   ]
  },
  {
   "cell_type": "code",
   "execution_count": 1,
   "id": "4e8d6e08",
   "metadata": {},
   "outputs": [],
   "source": [
    "import coast_corr\n",
    "import warnings\n",
    "#warnings.filterwarnings(\"ignore\")\n",
    "import osmnx as ox\n",
    "from tkinter import filedialog\n",
    "from tkinter import *\n",
    "import ipywidgets\n",
    "import os\n",
    "import glob\n",
    "import pandas as pd\n",
    "import rasterio as rio\n",
    "import rioxarray\n",
    "import geopandas as gpd\n",
    "import tqdm"
   ]
  },
  {
   "cell_type": "code",
   "execution_count": 2,
   "id": "866d1668",
   "metadata": {},
   "outputs": [
    {
     "data": {
      "application/vnd.jupyter.widget-view+json": {
       "model_id": "495539b2c93a43c895388f850280429e",
       "version_major": 2,
       "version_minor": 0
      },
      "text/plain": [
       "Text(value='1', description='Band:', placeholder='Type something')"
      ]
     },
     "metadata": {},
     "output_type": "display_data"
    }
   ],
   "source": [
    "root = Tk()\n",
    "root.withdraw()\n",
    "outfolder = filedialog.askdirectory()\n",
    "\n",
    "band=ipywidgets.Text(\n",
    "    value='1',\n",
    "    placeholder='Type something',\n",
    "    description='Band:',\n",
    "    disabled=False\n",
    ")\n",
    "display(band)"
   ]
  },
  {
   "cell_type": "code",
   "execution_count": 13,
   "id": "effce36d",
   "metadata": {
    "scrolled": true
   },
   "outputs": [
    {
     "name": "stdout",
     "output_type": "stream",
     "text": [
      "Done!rting images to csv's, please wait... 100.0 %\n"
     ]
    }
   ],
   "source": [
    "inputs=outfolder\n",
    "\n",
    "#for function:\n",
    "\n",
    "#First Create Folder for CSV's in parent folder of directory\n",
    "path_parent = os.path.dirname(inputs)\n",
    "new_fold=path_parent+'/csv'\n",
    "if not os.path.exists(new_fold): os.makedirs(new_fold)\n",
    "csv_bandfld=new_fold+\"/\"+\"Band\"+band.value\n",
    "if not os.path.exists(csv_bandfld): os.makedirs(csv_bandfld)\n",
    "csv_out=csv_bandfld\n",
    "#make a df of all images in folder\n",
    "clipping_df=pd.DataFrame(columns=[\"Rrs_files\",\"date\",\"time\"])\n",
    "clipping_df['Rrs_files']=glob.glob(inputs+'/*.tif')\n",
    "print(\"Converting images to csv's, please wait...\", end='\\r')\n",
    "\n",
    "for i in range(0,len(clipping_df)):\n",
    "    date, time = clipping_df['Rrs_files'][i].split('/')[len(clipping_df['Rrs_files'][i].split('/'))-1].split('_')[0][:10],clipping_df['Rrs_files'][i].split('/')[len(clipping_df['Rrs_files'][i].split('/'))-1].split('_')[0][11:]\n",
    "    clipping_df['date'][i]=date\n",
    "    clipping_df['time'][i]=time\n",
    "    rds = rioxarray.open_rasterio(clipping_df['Rrs_files'][i])\n",
    "    rds.name = \"data\"\n",
    "    df = rds.squeeze().to_dataframe().reset_index()\n",
    "    df=df[df['band']==int(band.value)]\n",
    "    gdf = gpd.GeoDataFrame(df, crs=rds.rio.crs, geometry=gpd.points_from_xy(df.x, df.y))\n",
    "    #gdf['crs']=str(rds.rio.crs)\n",
    "    gdf['Date']=clipping_df['date'][i]\n",
    "    gdf['Time']=clipping_df['time'][i]\n",
    "    date_name=clipping_df['date'][i]\n",
    "    csv_filename=csv_out+\"/\"+date_name+'.csv'\n",
    "    gdf.to_csv(csv_filename)\n",
    "    i=i+1\n",
    "    frac=round(((i/len(clipping_df))*100),2)\n",
    "    print(\"Converting images to csv's, please wait...\", frac,\"%\", end='\\r')\n",
    "\n",
    "print(\"Done!\")\n"
   ]
  }
 ],
 "metadata": {
  "kernelspec": {
   "display_name": "Python 3 (ipykernel)",
   "language": "python",
   "name": "python3"
  },
  "language_info": {
   "codemirror_mode": {
    "name": "ipython",
    "version": 3
   },
   "file_extension": ".py",
   "mimetype": "text/x-python",
   "name": "python",
   "nbconvert_exporter": "python",
   "pygments_lexer": "ipython3",
   "version": "3.7.11"
  }
 },
 "nbformat": 4,
 "nbformat_minor": 5
}
